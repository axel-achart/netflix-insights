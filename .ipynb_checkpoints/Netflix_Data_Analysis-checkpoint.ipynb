{
 "cells": [
  {
   "cell_type": "code",
   "execution_count": null,
   "id": "a9daf45f-569a-4bf7-81a0-1ddb05e80de4",
   "metadata": {},
   "outputs": [],
   "source": [
    "#3 - Chargez le dataset à l’aide de Pandas sous le format d’un DataFrame.\n",
    "\n",
    "import pandas as pd\n",
    "\n",
    "df = pd.read_csv('netflix_titles.csv')   # Read DataBase"
   ]
  },
  {
   "cell_type": "code",
   "execution_count": null,
   "id": "95ebca03-e6c6-47d5-9e46-287a4589ac69",
   "metadata": {},
   "outputs": [],
   "source": [
    "#4 - Affichez un aperçu du DataFrame en affichant ses 5 premières observations et ses 5 dernières observations à l’aide de deux fonctions \n",
    "# spécifiques de Pandas.\n",
    "\n",
    "print(df.head())   # Display 5 first elements\n",
    "print(df.tail())   # Display 5 last elements"
   ]
  },
  {
   "cell_type": "code",
   "execution_count": null,
   "id": "84fdbaec-d6e6-48bd-a648-e431239c99a5",
   "metadata": {},
   "outputs": [],
   "source": [
    "#5 - Affichez les informations du DataFrame, notamment le type d'index et les colonnes, les valeurs non nulles et l'utilisation de la mémoire.\n",
    "\n",
    "# Index types\n",
    "print(\"Index type : \", df.index.dtype)\n",
    "print()\n",
    "# Columns\n",
    "print(\"Columns :\")\n",
    "for x in df:\n",
    "    print(x)\n",
    "print()\n",
    "# No Null values\n",
    "print(\"No null Values\")\n",
    "print(df.count())\n",
    "\"\"\"OU print(df.notnull().sum())\"\"\"\n",
    "print()\n",
    "# Memory using\n",
    "print(\"Memore use :\")\n",
    "print(df.memory_usage(deep=True))"
   ]
  },
  {
   "cell_type": "code",
   "execution_count": null,
   "id": "4b13a1c8-81b3-4b72-8598-e3e594cdc53c",
   "metadata": {},
   "outputs": [],
   "source": [
    "#6 - Affichez la dimensionnalité du DataFrame. Combien avez-vous de variables ? Combien avez-vous d’observations ?\n",
    "\n",
    "print(df.info())"
   ]
  },
  {
   "cell_type": "code",
   "execution_count": null,
   "id": "97354e0e-5d6a-4e3e-ace5-f8940a20149c",
   "metadata": {},
   "outputs": [],
   "source": [
    "#7 - Affichez les colonnes du DataFrame.\n",
    "for x in df:\n",
    "    print(x)"
   ]
  },
  {
   "cell_type": "code",
   "execution_count": null,
   "id": "4485882a-3a26-422e-9c64-191a7e0820e2",
   "metadata": {},
   "outputs": [],
   "source": [
    "#8 - Affichez le type des différentes colonnes du DataFrame. Avez-vous des données quantitatives (numériques) ? \n",
    "# Avez-vous des données qualitatives (catégorielles) ? Si oui, lesquelles ?\n",
    "\n",
    "import pandas as pd\n",
    "df = pd.read_csv('netflix_titles.csv')\n",
    "print(df.dtypes)"
   ]
  },
  {
   "cell_type": "code",
   "execution_count": null,
   "id": "ae62dc25-49cd-4eea-afc6-b9cc1ddac0ef",
   "metadata": {},
   "outputs": [],
   "source": [
    "#9 - Y a-t-il des données manquantes ? Identifiez la proportion en pourcentage.\n",
    "\n",
    "manquantes = df.isna().sum()\n",
    "print(manquantes)\n",
    "\n",
    "print()\n",
    "\n",
    "proportion = len(df)\n",
    "prop_pourcentage = (manquantes/proportion) * 100\n",
    "print(prop_pourcentage)"
   ]
  },
  {
   "cell_type": "code",
   "execution_count": null,
   "id": "350f079f-ea5f-4ba1-a9f2-ffc9041a4e02",
   "metadata": {},
   "outputs": [],
   "source": [
    "#10 - A l’aide de la librairie Missingno. Affichez un graphique représentatif de la proportion des données manquantes.\n",
    "\n",
    "import missingno as msno\n",
    "import pandas as pd\n",
    "\n",
    "df = pd.read_csv('netflix_titles.csv')\n",
    "msno.bar(df)"
   ]
  },
  {
   "cell_type": "code",
   "execution_count": null,
   "id": "0fd42821-8485-4891-8baf-7d635a079af8",
   "metadata": {},
   "outputs": [],
   "source": [
    "#11 - Affichez une observation aléatoire du DataFrame.\n",
    "\n",
    "print(df.sample())"
   ]
  },
  {
   "cell_type": "code",
   "execution_count": null,
   "id": "0eff9ccb-d589-4597-8a65-edf2f5c29ac6",
   "metadata": {},
   "outputs": [],
   "source": [
    "#12 - Affichez toutes les informations de l'œuvre “Catch Me If You Can”.\n",
    "\n",
    "import pandas as pd\n",
    "\n",
    "data = {\n",
    "    'Titre': ['Catch me if you can', 'The Wolf of Wall Street', 'Inception', 'My Hero Academia'],\n",
    "    'Réalisateur': ['Steven Spielberg', 'Martin Scorsese', 'Christopher Nolan', 'Kōhei Horikoshi'],\n",
    "    'Année': [2002, 2013, 2010, 2016],\n",
    "    'Type': ['Movie', 'Movie', 'TV Show', 'TV Show'],\n",
    "    'Durée (minutes)': [141, 180, 148, 200],\n",
    "}\n",
    "\n",
    "df = pd.DataFrame(data)\n",
    "\n",
    "catch_me_info = df[df['Titre'] == 'Catch me if you can']\n",
    "print(catch_me_info)"
   ]
  },
  {
   "cell_type": "code",
   "execution_count": 51,
   "id": "7944a861-b444-4096-967c-8f7d2dded729",
   "metadata": {},
   "outputs": [
    {
     "name": "stdout",
     "output_type": "stream",
     "text": [
      "The Wolf of Wall Street\n"
     ]
    }
   ],
   "source": [
    "#13 - Affichez le nom du film le plus récent du dataset.\n",
    "\n",
    "films = df[df['Type'] == 'Movie']\n",
    "\n",
    "film_plus_recent = films[films['Année'] == films['Année'].max()]\n",
    "\n",
    "print(film_plus_recent['Titre'].values[0])"
   ]
  },
  {
   "cell_type": "code",
   "execution_count": 53,
   "id": "14060967-a77d-4f0c-8c16-a49d4c312b45",
   "metadata": {},
   "outputs": [
    {
     "name": "stdout",
     "output_type": "stream",
     "text": [
      "Inception\n"
     ]
    }
   ],
   "source": [
    "#14 - Affichez le nom de la série la plus récente du dataset.\n",
    "\n",
    "series = df[df['Type'] == 'TV Show']\n",
    "\n",
    "serie_plus_recente = series[series['Année'] == series['Année'].max()]\n",
    "\n",
    "print(serie_plus_recente['Titre'].values[0])"
   ]
  },
  {
   "cell_type": "code",
   "execution_count": null,
   "id": "1b4ab391-7452-4086-84e7-64ff00d38a69",
   "metadata": {},
   "outputs": [],
   "source": []
  }
 ],
 "metadata": {
  "kernelspec": {
   "display_name": "Python 3 (ipykernel)",
   "language": "python",
   "name": "python3"
  },
  "language_info": {
   "codemirror_mode": {
    "name": "ipython",
    "version": 3
   },
   "file_extension": ".py",
   "mimetype": "text/x-python",
   "name": "python",
   "nbconvert_exporter": "python",
   "pygments_lexer": "ipython3",
   "version": "3.12.7"
  }
 },
 "nbformat": 4,
 "nbformat_minor": 5
}
