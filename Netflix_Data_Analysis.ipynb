{
 "cells": [
  {
   "cell_type": "code",
   "execution_count": null,
   "id": "a9daf45f-569a-4bf7-81a0-1ddb05e80de4",
   "metadata": {},
   "outputs": [],
   "source": [
    "#3 - Chargez le dataset à l’aide de Pandas sous le format d’un DataFrame.\n",
    "\n",
    "import pandas as pd\n",
    "\n",
    "df = pd.read_csv('netflix_titles.csv')   # Read DataBase"
   ]
  },
  {
   "cell_type": "code",
   "execution_count": null,
   "id": "95ebca03-e6c6-47d5-9e46-287a4589ac69",
   "metadata": {},
   "outputs": [],
   "source": [
    "#4 - Affichez un aperçu du DataFrame en affichant ses 5 premières observations et ses 5 dernières observations à l’aide de deux fonctions \n",
    "# spécifiques de Pandas.\n",
    "import pandas as pd\n",
    "\n",
    "df = pd.read_csv('netflix_titles.csv')   # Read DataBase\n",
    "print(df.head())   # Display 5 first elements\n",
    "print(df.tail())   # Display 5 last elements"
   ]
  },
  {
   "cell_type": "code",
   "execution_count": null,
   "id": "84fdbaec-d6e6-48bd-a648-e431239c99a5",
   "metadata": {},
   "outputs": [],
   "source": [
    "#5 - Affichez les informations du DataFrame, notamment le type d'index et les colonnes, les valeurs non nulles et l'utilisation de la mémoire.\n",
    "import pandas as pd\n",
    "\n",
    "df = pd.read_csv('netflix_titles.csv')   # Read DataBase\n",
    "# Index types\n",
    "print(\"Index type : \", df.index.dtype)\n",
    "print()\n",
    "# Columns\n",
    "print(\"Columns :\")\n",
    "for x in df:\n",
    "    print(x)\n",
    "print()\n",
    "# No Null values\n",
    "print(\"No null Values\")\n",
    "print(df.count())\n",
    "\"\"\"OU print(df.notnull().sum())\"\"\"\n",
    "print()\n",
    "# Memory using\n",
    "print(\"Memore use :\")\n",
    "print(df.memory_usage(deep=True))"
   ]
  },
  {
   "cell_type": "code",
   "execution_count": null,
   "id": "4b13a1c8-81b3-4b72-8598-e3e594cdc53c",
   "metadata": {},
   "outputs": [],
   "source": [
    "#6 - Affichez la dimensionnalité du DataFrame. Combien avez-vous de variables ? Combien avez-vous d’observations ?\n",
    "import pandas as pd\n",
    "\n",
    "df = pd.read_csv('netflix_titles.csv')   # Read DataBase\n",
    "print(df.info())"
   ]
  },
  {
   "cell_type": "code",
   "execution_count": null,
   "id": "97354e0e-5d6a-4e3e-ace5-f8940a20149c",
   "metadata": {},
   "outputs": [],
   "source": [
    "#7 - Affichez les colonnes du DataFrame.\n",
    "import pandas as pd\n",
    "\n",
    "df = pd.read_csv('netflix_titles.csv')   # Read DataBase\n",
    "for x in df:\n",
    "    print(x)"
   ]
  },
  {
   "cell_type": "code",
   "execution_count": 3,
   "id": "4485882a-3a26-422e-9c64-191a7e0820e2",
   "metadata": {},
   "outputs": [
    {
     "name": "stdout",
     "output_type": "stream",
     "text": [
      "show_id         object\n",
      "type            object\n",
      "title           object\n",
      "director        object\n",
      "cast            object\n",
      "country         object\n",
      "date_added      object\n",
      "release_year     int64\n",
      "rating          object\n",
      "duration        object\n",
      "listed_in       object\n",
      "description     object\n",
      "dtype: object\n"
     ]
    }
   ],
   "source": [
    "#8 - Affichez le type des différentes colonnes du DataFrame. Avez-vous des données quantitatives (numériques) ? \n",
    "# Avez-vous des données qualitatives (catégorielles) ? Si oui, lesquelles ?\n",
    "\n",
    "import pandas as pd\n",
    "df = pd.read_csv('netflix_titles.csv')\n",
    "print(df.dtypes)"
   ]
  },
  {
   "cell_type": "code",
   "execution_count": null,
   "id": "ae62dc25-49cd-4eea-afc6-b9cc1ddac0ef",
   "metadata": {},
   "outputs": [],
   "source": [
    "#9 - Y a-t-il des données manquantes ? Identifiez la proportion en pourcentage.\n",
    "import pandas as pd\n",
    "\n",
    "df = pd.read_csv('netflix_titles.csv')   # Read DataBase\n",
    "manquantes = df.isna().sum()\n",
    "print(manquantes)\n",
    "\n",
    "print()\n",
    "\n",
    "proportion = len(df)\n",
    "prop_pourcentage = (manquantes/proportion) * 100\n",
    "print(prop_pourcentage)"
   ]
  },
  {
   "cell_type": "code",
   "execution_count": null,
   "id": "350f079f-ea5f-4ba1-a9f2-ffc9041a4e02",
   "metadata": {},
   "outputs": [],
   "source": [
    "#10 - A l’aide de la librairie Missingno. Affichez un graphique représentatif de la proportion des données manquantes.\n",
    "\n",
    "import missingno as msno\n",
    "import pandas as pd\n",
    "\n",
    "df = pd.read_csv('netflix_titles.csv')\n",
    "msno.bar(df)"
   ]
  },
  {
   "cell_type": "code",
   "execution_count": null,
   "id": "0fd42821-8485-4891-8baf-7d635a079af8",
   "metadata": {},
   "outputs": [],
   "source": [
    "#11 - Affichez une observation aléatoire du DataFrame.\n",
    "import pandas as pd\n",
    "\n",
    "df = pd.read_csv('netflix_titles.csv')   # Read DataBase\n",
    "print(df.sample())"
   ]
  },
  {
   "cell_type": "code",
   "execution_count": null,
   "id": "0eff9ccb-d589-4597-8a65-edf2f5c29ac6",
   "metadata": {},
   "outputs": [],
   "source": [
    "#12 - Affichez toutes les informations de l'œuvre “Catch Me If You Can”.\n",
    "\n",
    "import pandas as pd\n",
    "\n",
    "data = {\n",
    "    'Titre': ['Catch me if you can', 'The Wolf of Wall Street', 'Inception', 'My Hero Academia'],\n",
    "    'Réalisateur': ['Steven Spielberg', 'Martin Scorsese', 'Christopher Nolan', 'Kōhei Horikoshi'],\n",
    "    'Année': [2002, 2013, 2010, 2016],\n",
    "    'Type': ['Movie', 'Movie', 'TV Show', 'TV Show'],\n",
    "    'Durée (minutes)': [141, 180, 148, 200],\n",
    "}\n",
    "\n",
    "df = pd.DataFrame(data)\n",
    "\n",
    "catch_me_info = df[df['Titre'] == 'Catch me if you can']\n",
    "print(catch_me_info)"
   ]
  },
  {
   "cell_type": "code",
   "execution_count": null,
   "id": "7944a861-b444-4096-967c-8f7d2dded729",
   "metadata": {},
   "outputs": [
    {
     "name": "stdout",
     "output_type": "stream",
     "text": [
      "My Little Pony: A New Generation\n"
     ]
    }
   ],
   "source": [
    "#13 - Affichez le nom du film le plus récent du dataset.\n",
    "import pandas as pd\n",
    "\n",
    "df = pd.read_csv('netflix_titles.csv')   # Read DataBase\n",
    "films = df[df['Type'] == 'Movie']\n",
    "\n",
    "film_plus_recent = films[films['Année'] == films['Année'].max()]\n",
    "\n",
    "print(film_plus_recent['Titre'].values[0])"
   ]
  },
  {
   "cell_type": "code",
   "execution_count": null,
   "id": "14060967-a77d-4f0c-8c16-a49d4c312b45",
   "metadata": {},
   "outputs": [],
   "source": [
    "#14 - Affichez le nom de la série la plus récente du dataset.\n",
    "import pandas as pd\n",
    "\n",
    "df = pd.read_csv('netflix_titles.csv')   # Read DataBase\n",
    "series = df[df['Type'] == 'TV Show']\n",
    "\n",
    "serie_plus_recente = series[series['Année'] == series['Année'].max()]\n",
    "\n",
    "print(serie_plus_recente['Titre'].values[0])"
   ]
  },
  {
   "cell_type": "code",
   "execution_count": null,
   "id": "1b4ab391-7452-4086-84e7-64ff00d38a69",
   "metadata": {},
   "outputs": [],
   "source": [
    "#15 - Modifiez la variable date_added de telle sorte qu’elle soit de type DateTime.\n",
    "import pandas as pd\n",
    "\n",
    "df = pd.read_csv('netflix_titles.csv')   # Read DataBase\n",
    "df['date_added'] = pd.to_datetime(df['date_added'])\n",
    "print(df.dtypes)"
   ]
  },
  {
   "cell_type": "code",
   "execution_count": null,
   "id": "96f302a9-190a-4ba4-90db-323efac76d75",
   "metadata": {},
   "outputs": [],
   "source": [
    "#16 - Modifiez la variable duration de telle sorte que la durée des films soit un nombre plutôt qu’une chaîne de caractères, \n",
    "# par exemple : 160 au lieu de “160 min”.\n",
    "import pandas as pd\n",
    "\n",
    "df = pd.read_csv('netflix_titles.csv')   # Read DataBase\n",
    "\"\"\"df = df[df['duration'].str.contains('min', na=False)].copy()\n",
    "\n",
    "df['duration'] = df['duration'].str.extract(r'(\\d+)').astype(int)\"\"\"\n",
    "\n",
    "print(df.dtypes)\n",
    "print(df[['duration']].head())"
   ]
  },
  {
   "cell_type": "code",
   "execution_count": null,
   "id": "c1542f07-ce85-49be-9624-f9fc407e2f8b",
   "metadata": {},
   "outputs": [],
   "source": [
    "#17 - Modifiez la variable duration de telle sorte que la durée des séries soit un nombre plutôt qu’une chaîne de caractères, \n",
    "# par exemple : 2 au milieu de “2 seasons”.\n",
    "import pandas as pd\n",
    "\n",
    "df = pd.read_csv('netflix_titles.csv')   # Read DataBase\n",
    "\"\"\"df_series = df[df['duration'].str.contains('Season', na=False)].copy()\n",
    "\n",
    "df_series['duration'] = df_series['duration'].str.extract(r'(\\d+)').astype(int)\"\"\"\n",
    "\n",
    "print(df_series.dtypes)\n",
    "print(df_series[['duration']].head())"
   ]
  },
  {
   "cell_type": "code",
   "execution_count": null,
   "id": "ce0090fd-69bb-49ed-98f2-e6004e3fe5b0",
   "metadata": {},
   "outputs": [],
   "source": [
    "#18 - Modifiez la variable listed_in de telle sorte que la chaîne de caractères soit un liste de chaîne de caractères, \n",
    "# par exemple : [“International TV Shows”, “TV Dramas”, “TV Mysteries”] au lieu de “International TV Shows, \n",
    "# TV Dramas, TV Mysteries”.\n",
    "import pandas as pd\n",
    "\n",
    "df = pd.read_csv('netflix_titles.csv')   # Read DataBase\n",
    "df['listed_in'] = df['listed_in'].astype(str)\n",
    "\n",
    "df['listed_in'] = df['listed_in'].apply(lambda x: [genre.strip() for genre in x.split(',')])\n",
    "\n",
    "print(df['listed_in'])"
   ]
  },
  {
   "cell_type": "code",
   "execution_count": null,
   "id": "b5023065-7226-4928-a87a-71d541293747",
   "metadata": {},
   "outputs": [],
   "source": [
    "#19 - Affichez les valeurs uniques des variables : type, country, release_year, rating et listed_in.\n",
    "import pandas as pd\n",
    "\n",
    "df = pd.read_csv('netflix_titles.csv')   # Read DataBase\n",
    "print(df['type'].unique())\n",
    "print(df['country'].unique())\n",
    "print(df['release_year'].unique())\n",
    "print(df['rating'].unique())\n",
    "print(df['listed_in'].unique())"
   ]
  },
  {
   "cell_type": "code",
   "execution_count": null,
   "id": "35dcda39-1a55-4aa5-a681-e4db092fefad",
   "metadata": {},
   "outputs": [],
   "source": [
    "#20 - Voyez-vous un “director” ayant produit plus d’une œuvre ?\n",
    "\n",
    "directors_count = df['director'].value_counts()\n",
    "\n",
    "directors_with_multiple = directors_count[directors_count > 1]\n",
    "\n",
    "print(directors_with_multiple)"
   ]
  },
  {
   "cell_type": "code",
   "execution_count": null,
   "id": "8d59182c-be00-4e66-8a2a-a2e426e0cdaf",
   "metadata": {},
   "outputs": [],
   "source": [
    "#21 - Quelle est l’année avec le plus de films ajoutés au catalogue de Netflix ?\n",
    "\n",
    "import pandas as pd\n",
    "\n",
    "df = pd.read_csv('netflix_titles.csv')\n",
    "\n",
    "films = df[df['type'] == 'Movie']\n",
    "\n",
    "films_par_annee = films['release_year'].value_counts().sort_index()\n",
    "\n",
    "annee_max = films_par_annee.idxmax()\n",
    "nombre_max = films_par_annee.max()\n",
    "\n",
    "print(f\"L'année avec le plus de films ajoutés est {annee_max} avec {nombre_max} films.\")"
   ]
  },
  {
   "cell_type": "code",
   "execution_count": null,
   "id": "ebfa07a6-375a-4843-8a54-7299f51c3b24",
   "metadata": {},
   "outputs": [],
   "source": [
    "#22 - Quelle est l’année avec le plus de séries ajoutées au catalogue de Netflix ?\n",
    "\n",
    "import pandas as pd\n",
    "\n",
    "df = pd.read_csv('netflix_titles.csv')\n",
    "\n",
    "series = df[df['type'] == 'TV Show']\n",
    "\n",
    "series_par_annee = series['release_year'].value_counts().sort_index()\n",
    "\n",
    "annee_max = series_par_annee.idxmax()\n",
    "nombre_max = series_par_annee.max()\n",
    "\n",
    "print(f\"L'année avec le plus de séries ajoutés est {annee_max} avec {nombre_max} séries.\")"
   ]
  },
  {
   "cell_type": "code",
   "execution_count": null,
   "id": "43187d43-fb13-4b96-8cfe-e4753ba04088",
   "metadata": {},
   "outputs": [],
   "source": [
    "#23 - Visualisez vos données à l’aide des différentes librairies de Matplotlib, Seaborn ou Plotly\n"
   ]
  },
  {
   "cell_type": "code",
   "execution_count": null,
   "id": "9a237f04-2a1e-4277-9586-6950bf59556f",
   "metadata": {},
   "outputs": [],
   "source": [
    "#24 - Prenez soin d’observer et analyser tous vos graphiques. Que pouvez-vous dire sur vos données ?\n"
   ]
  }
 ],
 "metadata": {
  "kernelspec": {
   "display_name": "base",
   "language": "python",
   "name": "python3"
  },
  "language_info": {
   "codemirror_mode": {
    "name": "ipython",
    "version": 3
   },
   "file_extension": ".py",
   "mimetype": "text/x-python",
   "name": "python",
   "nbconvert_exporter": "python",
   "pygments_lexer": "ipython3",
   "version": "3.12.7"
  }
 },
 "nbformat": 4,
 "nbformat_minor": 5
}
